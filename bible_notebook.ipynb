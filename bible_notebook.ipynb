{
 "cells": [
  {
   "cell_type": "markdown",
   "metadata": {},
   "source": [
    "# Bible Notebook\n",
    "This is a Jupyter Notebook project for performing analysis on the bible.\n",
    "There are several translations of the bible. The translations that I am using\n",
    "for this project is RSV, NAB, DR and LV.\n",
    "\n",
    "I am using Apache Spark and Pandas frameworks. I also am using NLTK for the content analysis.\n"
   ]
  },
  {
   "cell_type": "code",
   "execution_count": null,
   "metadata": {},
   "outputs": [],
   "source": [
    "from pyspark import SparkContext, SparkConf\n",
    "import string\n",
    "import re\n",
    "import subprocess\n",
    "import sys"
   ]
  },
  {
   "cell_type": "code",
   "execution_count": null,
   "metadata": {},
   "outputs": [],
   "source": [
    "conf = SparkConf().setAppName('Bible Study App')\n",
    "sc=SparkContext(conf = conf)"
   ]
  },
  {
   "cell_type": "code",
   "execution_count": null,
   "metadata": {},
   "outputs": [],
   "source": [
    "# book information\n",
    "hdfs_dir    = '/user/thebible'\n",
    "translation = 'dr'\n",
    "book        = '01-Genesis-text.txt'\n",
    "book_filename = f'{hdfs_dir}/{translation}/{book}'"
   ]
  },
  {
   "cell_type": "markdown",
   "metadata": {},
   "source": [
    "## Counting words in a book"
   ]
  },
  {
   "cell_type": "code",
   "execution_count": null,
   "metadata": {},
   "outputs": [],
   "source": [
    "## Examples running it separately by lines ...\n",
    "raw_text  = sc.textFile(book_filename)\n",
    "\n",
    "flatmap      = raw_text.flatMap(lambda line: line.translate(str.maketrans('', '', string.punctuation)).split(' '))\n",
    "filtered     = flatmap.filter(lambda word: word != '' and word.isnumeric() == False)\n",
    "filtered_map = filtered.map(lambda word: (word, 1))\n",
    "reduced      = filtered_map.reduceByKey(lambda a, b: a + b)\n",
    "\n",
    "sorted_counts = reduced.sortByKey()\n",
    "\n",
    "for count in sorted_counts.collect():\n",
    "    print(count)"
   ]
  },
  {
   "cell_type": "code",
   "execution_count": null,
   "metadata": {},
   "outputs": [],
   "source": [
    "# How many chapters does this book have?\n",
    "def get_chapter_headers(text):\n",
    "    return text.map(lambda line: line.startWith(\"*** chapter\"))"
   ]
  },
  {
   "cell_type": "code",
   "execution_count": null,
   "metadata": {},
   "outputs": [],
   "source": [
    "raw_text.filter(lambda line: line.startswith('***')).collect()"
   ]
  },
  {
   "cell_type": "markdown",
   "metadata": {},
   "source": [
    "## Count words in a text file"
   ]
  },
  {
   "cell_type": "code",
   "execution_count": null,
   "metadata": {},
   "outputs": [],
   "source": [
    "def get_unique_words(text_file):\n",
    "    text = sc.textFile(text_file)\n",
    "    return text.flatMap(lambda line: line.translate(str.maketrans('', '', string.punctuation)).split(' '))\\\n",
    "             .filter(lambda word: word != '' and word.isnumeric() == False) \\\n",
    "             .map(lambda word: (word, 1))\\\n",
    "             .reduceByKey(lambda a, b: a + b)\\\n",
    "             .sortByKey()\n",
    "\n",
    "def count_all_words(counted_words):\n",
    "    total_words = 0\n",
    "    for word in counted_words.collect():\n",
    "        total_words += word[1]\n",
    "        \n",
    "    return total_words"
   ]
  },
  {
   "cell_type": "code",
   "execution_count": null,
   "metadata": {},
   "outputs": [],
   "source": [
    "## Number of words by books\n",
    "book_name = '01-Genesis'\n",
    "book_file_name = f'/user/thebible/rsv/{book_name}-text.txt'\n",
    "unique_words = get_unique_words(book_file_name)\n",
    "\n",
    "print('The book of {} has {} unique words'.format(book_name, unique_words.count()))\n",
    "print('The book of {} has {} words'.format(book_name, count_all_words(unique_words)))"
   ]
  },
  {
   "cell_type": "code",
   "execution_count": null,
   "metadata": {},
   "outputs": [],
   "source": [
    "\n",
    "def get_file_names(dir_name):\n",
    "    buf = ''\n",
    "    file_names = []\n",
    "    with subprocess.Popen([\"hdfs\", \"dfs\", \"-ls\", dir_name], stdout=subprocess.PIPE) as proc:\n",
    "        buf += re.sub('\\t', '', str(proc.stdout.read()))\n",
    "    for line in buf.split('\\\\n'):\n",
    "        tokens = []\n",
    "        for token in line.split(' '):\n",
    "            if token.strip() != '':\n",
    "                tokens.append(token)\n",
    "        if len(tokens) < 8:\n",
    "            continue\n",
    "        tokens = tokens[7].split('/')\n",
    "        file_names.append(tokens[len(tokens) - 1])\n",
    "    return file_names\n",
    "\n",
    "class BookMetadata:\n",
    "    book_name = ''\n",
    "    book_id = ''\n",
    "    translation = ''\n",
    "    file_name = ''\n",
    "    file_size = 0\n",
    "    unique_words_count = 0\n",
    "    total_words_count = 0\n",
    "    num_chapters = 0\n",
    "    num_verses = 0\n",
    "    unique_words_file_name = ''\n",
    "\n",
    "    most_unique_words = False\n",
    "    least_unique_words = False\n",
    "    most_words = False\n",
    "    least_words = False\n",
    "    \n",
    "translation = 'rsv'\n",
    "translation_dir = '/user/thebible/rsv/'\n",
    "file_name_ext = '-text.txt'\n",
    "file_names = get_file_names(translation_dir)\n",
    "file_names.sort()\n",
    "book_metadatas_by_names = {}\n",
    "\n",
    "for file_name in file_names:\n",
    "    book_metadata = BookMetadata()\n",
    "    book_metadata.translation = translation\n",
    "    book_metadata.book_name = file_name[3:][:-9]\n",
    "    book_metadata.book_id = file_name[:2]\n",
    "    book_metadata.file_name = file_name\n",
    "    \n",
    "    book_file_name = translation_dir + file_name\n",
    "    unique_words = get_unique_words(book_file_name)\n",
    "    \n",
    "    book_metadata.unique_words_count = unique_words.count()\n",
    "    book_metadata.total_words_count = count_all_words(unique_words)\n",
    "    \n",
    "    print('The book of {} has {} unique words'.format(book_metadata.book_name, unique_words.count()))\n",
    "    print('The book of {} has {} words'.format(book_metadata.book_name, count_all_words(unique_words)))\n",
    "    book_metadatas_by_names[book_metadata.book_name] = book_metadata\n",
    "    "
   ]
  },
  {
   "cell_type": "code",
   "execution_count": null,
   "metadata": {
    "scrolled": true
   },
   "outputs": [],
   "source": [
    "\n",
    "print('ID, Name, File Name, Unique Words, All Words')\n",
    "book_with_most_unique_words = ''\n",
    "book_with_least_unique_words = ''\n",
    "book_with_most_words = ''\n",
    "book_with_least_words = ''\n",
    "most_unique_words = -1\n",
    "least_unique_words = sys.maxsize\n",
    "most_words = -1\n",
    "least_words = sys.maxsize\n",
    "\n",
    "for book_name in book_metadatas_by_names:\n",
    "    book_metadata = book_metadatas_by_names[book_name]\n",
    "    \n",
    "    if book_metadata.unique_words_count > most_unique_words: \n",
    "        most_unique_words = book_metadata.unique_words_count\n",
    "        book_with_most_unique_words = book_metadata.book_name\n",
    "        \n",
    "    if book_metadata.unique_words_count < least_unique_words:\n",
    "        least_unique_words = book_metadata.unique_words_count\n",
    "        book_with_least_unique_words = book_metadata.book_name\n",
    "\n",
    "    if book_metadata.total_words_count > most_words: \n",
    "        most_words = book_metadata.total_words_count\n",
    "        book_with_most_words = book_metadata.book_name\n",
    "        \n",
    "    if book_metadata.total_words_count < least_words:\n",
    "        least_words = book_metadata.total_words_count\n",
    "        book_with_least_words = book_metadata.book_name\n",
    "        \n",
    "    print('{}, {}, {}, {}, {}'.\\\n",
    "          format(book_metadata.book_id, \\\n",
    "                 book_metadata.book_name, \\\n",
    "                 book_metadata.file_name, \\\n",
    "                 book_metadata.unique_words_count,\\\n",
    "                 book_metadata.total_words_count))\n",
    "\n",
    "print('\\n,Statistic, Name, Count')\n",
    "print (',most unique words, {}, {}'.format(book_with_most_unique_words, most_unique_words))\n",
    "print (',least unique words, {}, {}'.format(book_with_least_unique_words, least_unique_words))\n",
    "print (',most words, {}, {}'.format(book_with_most_words, most_words))\n",
    "print (',least words, {}, {}'.format(book_with_least_words, least_words))\n"
   ]
  },
  {
   "cell_type": "markdown",
   "metadata": {},
   "source": [
    "## Counting Chapters"
   ]
  },
  {
   "cell_type": "code",
   "execution_count": null,
   "metadata": {},
   "outputs": [],
   "source": [
    "## Examples running it separately by lines ...\n",
    "# *** the book of Matthew\n",
    "#\n",
    "# *** Matthew 1 ***\n",
    "#\n",
    "# 1 The book of the genealogy of Jesus Christ, the son of David, the son of Abraham.\n",
    "\n",
    "class Book:\n",
    "    book_name = ''\n",
    "    book_id = ''\n",
    "    metadata = None\n",
    "    chapters = []\n",
    "    \n",
    "class Chapter:\n",
    "    chapter_no = 0\n",
    "    verses = []\n",
    "    total_words = 0\n",
    "    \n",
    "# text_file = '/user/thebible/rsv/01-Genesis-text.txt'\n",
    "text_file = '/user/thebible/dr/01-Genesis-text.txt'\n",
    "text = sc.textFile(text_file)\n",
    "book = Book()\n",
    "book.chapters.append(Chapter())\n",
    "chapter = None\n",
    "chapter_no = 0\n",
    "\n",
    "for line in text.collect():\n",
    "    if line.startswith('***') and line.endswith('***'):        \n",
    "        chapter = Chapter()\n",
    "        chapter_no += 1\n",
    "        chapter.verses = []\n",
    "        chapter.chapter_no = chapter_no\n",
    "        book.chapters.append(chapter)\n",
    "    else:\n",
    "        if chapter != None and line.strip() != '':\n",
    "            if line[0:1].isnumeric():\n",
    "                book.chapters[chapter_no].verses.append(line)\n"
   ]
  },
  {
   "cell_type": "code",
   "execution_count": null,
   "metadata": {},
   "outputs": [],
   "source": [
    "len(book.chapters)-1"
   ]
  },
  {
   "cell_type": "code",
   "execution_count": null,
   "metadata": {},
   "outputs": [],
   "source": [
    "verse_count = 0\n",
    "for chapter in book.chapters:\n",
    "    print(chapter.chapter_no, len(chapter.verses))\n",
    "    for verse in chapter.verses:\n",
    "        verse_count += 1\n",
    "        print(verse)"
   ]
  },
  {
   "cell_type": "code",
   "execution_count": null,
   "metadata": {},
   "outputs": [],
   "source": [
    "verse_count"
   ]
  },
  {
   "cell_type": "code",
   "execution_count": null,
   "metadata": {},
   "outputs": [],
   "source": []
  }
 ],
 "metadata": {
  "kernelspec": {
   "display_name": "Python 3",
   "language": "python",
   "name": "python3"
  },
  "language_info": {
   "codemirror_mode": {
    "name": "ipython",
    "version": 3
   },
   "file_extension": ".py",
   "mimetype": "text/x-python",
   "name": "python",
   "nbconvert_exporter": "python",
   "pygments_lexer": "ipython3",
   "version": "3.6.9"
  }
 },
 "nbformat": 4,
 "nbformat_minor": 4
}
